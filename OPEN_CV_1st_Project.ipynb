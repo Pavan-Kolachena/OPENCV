{
  "nbformat": 4,
  "nbformat_minor": 0,
  "metadata": {
    "colab": {
      "name": "OPEN CV 1st Project.ipynb",
      "provenance": [],
      "authorship_tag": "ABX9TyMhmCM/aoqJO7g34II/hgFf",
      "include_colab_link": true
    },
    "kernelspec": {
      "name": "python3",
      "display_name": "Python 3"
    },
    "language_info": {
      "name": "python"
    }
  },
  "cells": [
    {
      "cell_type": "markdown",
      "metadata": {
        "id": "view-in-github",
        "colab_type": "text"
      },
      "source": [
        "<a href=\"https://colab.research.google.com/github/Pavan-Kolachena/CustomerChurn/blob/master/OPEN_CV_1st_Project.ipynb\" target=\"_parent\"><img src=\"https://colab.research.google.com/assets/colab-badge.svg\" alt=\"Open In Colab\"/></a>"
      ]
    },
    {
      "cell_type": "code",
      "metadata": {
        "id": "C4M1O9-exT5T"
      },
      "source": [
        "import cv2\n",
        "import matplotlib.pyplot as plt\n",
        "import numpy as np\n",
        "import pandas as pd\n"
      ],
      "execution_count": 13,
      "outputs": []
    },
    {
      "cell_type": "code",
      "metadata": {
        "id": "B_2Igi5W3i2k"
      },
      "source": [
        "Video = cv2.VideoCapture(r'C:\\Users\\lenovo\\Downloads\\1st.mp4')"
      ],
      "execution_count": 17,
      "outputs": []
    },
    {
      "cell_type": "code",
      "metadata": {
        "id": "OIa_HuMUHqdg"
      },
      "source": [
        "i = 0\n",
        "while(Video.isOpened()):\n",
        "  ret,frame = Video.read()\n",
        "  if ret==False:\n",
        "    break\n",
        "  cv2.imwrite('kang'+str(i)+'.jpg',frame)\n",
        "  i+=1\n",
        " \n",
        "Video.release()\n",
        "cv2.destroyAllWindows()  "
      ],
      "execution_count": 20,
      "outputs": []
    }
  ]
}